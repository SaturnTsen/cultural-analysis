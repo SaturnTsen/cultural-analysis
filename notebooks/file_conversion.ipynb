{
 "cells": [
  {
   "cell_type": "markdown",
   "id": "eceb7a9e",
   "metadata": {},
   "source": [
    "Util: convert pdf to txt"
   ]
  },
  {
   "cell_type": "code",
   "execution_count": null,
   "id": "e4388a56",
   "metadata": {},
   "outputs": [],
   "source": [
    "from PyPDF2 import PdfReader\n",
    "import logging\n",
    "import os\n",
    "\n",
    "logging.basicConfig(level=logging.INFO)\n",
    "logger = logging.getLogger(__name__)\n",
    "\n",
    "def extract_text_from_pdf(pdf_path):\n",
    "    try:\n",
    "        reader = PdfReader(str(pdf_path))\n",
    "        text = \"\"\n",
    "        for page in reader.pages:\n",
    "            text += page.extract_text() or \"\"\n",
    "        return text.strip()\n",
    "    except Exception as e:\n",
    "        logger.warning(f\"提取PDF文本失败: {e}\")\n",
    "        return \"\""
   ]
  },
  {
   "cell_type": "code",
   "execution_count": null,
   "id": "190c759d",
   "metadata": {},
   "outputs": [],
   "source": [
    "pdf_files = [ f for f in os.listdir(r'C:\\Users\\ming\\OneDrive\\本科\\法语毕业论文\\project\\data\\more') if f.endswith('.pdf') ]\n",
    "for pdf_file in pdf_files:\n",
    "    pdf_path = os.path.join(r'C:\\Users\\ming\\OneDrive\\本科\\法语毕业论文\\project\\data\\more', pdf_file)\n",
    "    output_path = os.path.join(r'C:\\Users\\ming\\OneDrive\\本科\\法语毕业论文\\project\\data\\more', pdf_file.replace('.pdf', '.txt'))\n",
    "    if os.path.exists(output_path):\n",
    "        logger.warning(f\"文件已存在: {output_path}\")\n",
    "        continue\n",
    "    text = extract_text_from_pdf(pdf_path)\n",
    "\n",
    "    if text:\n",
    "        with open(output_path, \"w\", encoding=\"utf-8\") as f:\n",
    "            f.write(text)\n",
    "        logger.info(f\"提取文本成功: {pdf_file}\")\n",
    "    else:\n",
    "        logger.warning(f\"提取文本失败: {pdf_file}\")"
   ]
  }
 ],
 "metadata": {
  "kernelspec": {
   "display_name": "py312",
   "language": "python",
   "name": "python3"
  },
  "language_info": {
   "codemirror_mode": {
    "name": "ipython",
    "version": 3
   },
   "file_extension": ".py",
   "mimetype": "text/x-python",
   "name": "python",
   "nbconvert_exporter": "python",
   "pygments_lexer": "ipython3",
   "version": "3.12.3"
  }
 },
 "nbformat": 4,
 "nbformat_minor": 5
}
