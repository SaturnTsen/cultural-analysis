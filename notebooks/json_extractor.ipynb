{
 "cells": [
  {
   "cell_type": "code",
   "execution_count": null,
   "id": "05341262",
   "metadata": {},
   "outputs": [],
   "source": [
    "import pandas as pd\n",
    "import os\n",
    "import json\n",
    "import datetime"
   ]
  },
  {
   "cell_type": "markdown",
   "id": "33265ade",
   "metadata": {},
   "source": [
    "**China**"
   ]
  },
  {
   "cell_type": "code",
   "execution_count": null,
   "id": "44b03ccf",
   "metadata": {},
   "outputs": [],
   "source": [
    "df = pd.read_excel('../data/文献收集.xlsx', sheet_name='中国')\n",
    "\n",
    "cols_to_fill = df.columns[:3]  # 取前三列名字\n",
    "df[cols_to_fill] = df[cols_to_fill].ffill()\n",
    "\n",
    "df.rename(columns={df.columns[4]: '语言'}, inplace=True)\n",
    "\n",
    "datetime_col = df.columns[5]\n",
    "df[datetime_col] = df[datetime_col].apply(\n",
    "    lambda x: x.strftime('%Y-%m-%d') if pd.notnull(x) and isinstance(x, (pd.Timestamp, datetime.datetime)) else x\n",
    ")\n",
    "\n",
    "df[df.columns[6]] = df[df.columns[6]].fillna('无')\n",
    "\n",
    "df.rename(columns={df.columns[8]: '链接'}, inplace=True)\n",
    "\n",
    "dfrecords = df.to_dict(orient='records')\n",
    "dfrecords = [\n",
    "    {'id': idx + 1, **record}\n",
    "    for idx, record in enumerate(df.to_dict(orient='records'))\n",
    "]\n",
    "dfrecords[0]"
   ]
  },
  {
   "cell_type": "code",
   "execution_count": null,
   "id": "99aeae53",
   "metadata": {},
   "outputs": [],
   "source": [
    "for idx, record in enumerate(dfrecords):\n",
    "    filename = f'../data/only_json/china/{idx+1}.json'\n",
    "    with open(filename, 'w', encoding='utf-8') as f:\n",
    "        json.dump(record, f, ensure_ascii=False, indent=4)"
   ]
  },
  {
   "cell_type": "markdown",
   "id": "bc017106",
   "metadata": {},
   "source": [
    "**France**"
   ]
  },
  {
   "cell_type": "code",
   "execution_count": null,
   "id": "364087bf",
   "metadata": {},
   "outputs": [],
   "source": [
    "df = pd.read_excel('../data/文献收集.xlsx', sheet_name='法国')\n",
    "df = df[df.columns[:9]]\n",
    "\n",
    "cols_to_fill = df.columns[:3]  # 取前三列名字\n",
    "df[cols_to_fill] = df[cols_to_fill].ffill()\n",
    "\n",
    "df.rename(columns={df.columns[4]: '语言'}, inplace=True)\n",
    "\n",
    "datetime_col = df.columns[5]\n",
    "df[datetime_col] = df[datetime_col].apply(\n",
    "    lambda x: x.strftime('%Y-%m-%d') if pd.notnull(x) and isinstance(x, (pd.Timestamp, datetime.datetime)) else x\n",
    ")\n",
    "\n",
    "df[df.columns[6]] = df[df.columns[6]].fillna('无')\n",
    "\n",
    "df.rename(columns={df.columns[8]: '链接'}, inplace=True)\n",
    "\n",
    "dfrecords = df.to_dict(orient='records')\n",
    "dfrecords = [\n",
    "    {'id': idx + 1, **record}\n",
    "    for idx, record in enumerate(df.to_dict(orient='records'))\n",
    "]\n",
    "dfrecords[0]"
   ]
  },
  {
   "cell_type": "code",
   "execution_count": null,
   "id": "8db86fb5",
   "metadata": {},
   "outputs": [],
   "source": [
    "for idx, record in enumerate(dfrecords):\n",
    "    filename = f'../data/raw/france/{idx+1}.json'\n",
    "    with open(filename, 'w', encoding='utf-8') as f:\n",
    "        json.dump(record, f, ensure_ascii=False, indent=4)"
   ]
  }
 ],
 "metadata": {
  "kernelspec": {
   "display_name": "py312",
   "language": "python",
   "name": "python3"
  },
  "language_info": {
   "codemirror_mode": {
    "name": "ipython",
    "version": 3
   },
   "file_extension": ".py",
   "mimetype": "text/x-python",
   "name": "python",
   "nbconvert_exporter": "python",
   "pygments_lexer": "ipython3",
   "version": "3.12.3"
  }
 },
 "nbformat": 4,
 "nbformat_minor": 5
}
